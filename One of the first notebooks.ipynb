{
 "cells": [
  {
   "cell_type": "code",
   "execution_count": 10,
   "metadata": {
    "scrolled": true
   },
   "outputs": [
    {
     "name": "stdout",
     "output_type": "stream",
     "text": [
      "Sie ist größer als 10.\n"
     ]
    }
   ],
   "source": [
    "number = 1000\n",
    "\n",
    "if number > 10:\n",
    "    print(\"Sie ist größer als 10.\")\n",
    "elif number <10: \n",
    "    print(\"Sie ist kleiner als 10.\")\n",
    "else:\n",
    "    print(\"Sie ist gleich 10.\")"
   ]
  },
  {
   "cell_type": "code",
   "execution_count": 12,
   "metadata": {},
   "outputs": [
    {
     "name": "stdout",
     "output_type": "stream",
     "text": [
      "Es ist wahr.\n"
     ]
    }
   ],
   "source": [
    "test=True\n",
    "if (test):\n",
    "    print(\"Es ist wahr.\")"
   ]
  },
  {
   "cell_type": "code",
   "execution_count": null,
   "metadata": {},
   "outputs": [],
   "source": [
    "commute = 30\n",
    "rain = True\n",
    "traffic = True\n",
    "\n",
    "if ((rain==False)&(traffic==False)):\n",
    "    print(commute)  \n",
    "elif ((rain==False)&(traffic==True)):\n",
    "    print(commute + 20)\n",
    "elif ((rain==True)&(traffic==False)):\n",
    "    print(commute+15)\n",
    "else:\n",
    "    print(commute+20+15)"
   ]
  },
  {
   "cell_type": "code",
   "execution_count": null,
   "metadata": {
    "scrolled": true
   },
   "outputs": [],
   "source": [
    "print(range(10))"
   ]
  },
  {
   "cell_type": "code",
   "execution_count": 26,
   "metadata": {
    "scrolled": true
   },
   "outputs": [
    {
     "name": "stdout",
     "output_type": "stream",
     "text": [
      "0\n",
      "1\n",
      "2\n",
      "3\n",
      "4\n",
      "5\n",
      "6\n",
      "7\n",
      "8\n",
      "9\n"
     ]
    }
   ],
   "source": [
    "for i in range(10):\n",
    "    print(i)"
   ]
  },
  {
   "cell_type": "code",
   "execution_count": null,
   "metadata": {},
   "outputs": [],
   "source": [
    "worterbuch={\"renate\":12, \"bettina\":15,\"josi\":9,\"luldwig\":30}\n",
    "worterbuch.keys()\n",
    "worterbuch.values()\n",
    "worterbuch.items()"
   ]
  },
  {
   "cell_type": "code",
   "execution_count": 3,
   "metadata": {},
   "outputs": [
    {
     "name": "stdout",
     "output_type": "stream",
     "text": [
      "braucht noch\n",
      "braucht noch\n",
      "braucht noch\n",
      "braucht noch\n",
      "fertig\n"
     ]
    }
   ],
   "source": [
    "stopit = 60\n",
    "t = 0\n",
    "intervall = 15\n",
    "while(t<60):    \n",
    "    print(\"braucht noch\")\n",
    "    t += 15\n",
    "print(\"fertig\")"
   ]
  },
  {
   "cell_type": "code",
   "execution_count": 5,
   "metadata": {
    "scrolled": true
   },
   "outputs": [
    {
     "name": "stdout",
     "output_type": "stream",
     "text": [
      "6\n"
     ]
    }
   ],
   "source": [
    "print(6)"
   ]
  },
  {
   "cell_type": "code",
   "execution_count": 9,
   "metadata": {},
   "outputs": [
    {
     "name": "stdout",
     "output_type": "stream",
     "text": [
      "(1, 3, 4)\n",
      "3\n"
     ]
    }
   ],
   "source": [
    "tupel=(1,3,4)\n",
    "print(tupel)\n",
    "print(tupel[1])"
   ]
  },
  {
   "cell_type": "code",
   "execution_count": 10,
   "metadata": {},
   "outputs": [],
   "source": [
    "import os"
   ]
  },
  {
   "cell_type": "code",
   "execution_count": 12,
   "metadata": {
    "scrolled": true
   },
   "outputs": [
    {
     "data": {
      "text/plain": [
       "'C:\\\\Users\\\\zaruc'"
      ]
     },
     "execution_count": 12,
     "metadata": {},
     "output_type": "execute_result"
    }
   ],
   "source": [
    "os.getcwd()"
   ]
  },
  {
   "cell_type": "code",
   "execution_count": 14,
   "metadata": {},
   "outputs": [],
   "source": [
    "with open(\"example.txt\", \"w\") as f:\n",
    "     f.write(\"Hello World! \\n\")"
   ]
  },
  {
   "cell_type": "code",
   "execution_count": 15,
   "metadata": {},
   "outputs": [],
   "source": [
    "with open(\"example.txt\", \"w\") as b:\n",
    "    b.write(\"na\")"
   ]
  },
  {
   "cell_type": "code",
   "execution_count": 16,
   "metadata": {},
   "outputs": [],
   "source": [
    "with open(\"try.txt\", \"w\") as b:\n",
    "    b.write(\"na\")"
   ]
  },
  {
   "cell_type": "code",
   "execution_count": 21,
   "metadata": {},
   "outputs": [
    {
     "name": "stdout",
     "output_type": "stream",
     "text": [
      "na\n"
     ]
    }
   ],
   "source": [
    "with open(\"try.txt\", 'r') as f:\n",
    "    print(f.readline()) #bcs it's only one"
   ]
  },
  {
   "cell_type": "code",
   "execution_count": 30,
   "metadata": {},
   "outputs": [],
   "source": [
    "import os\n",
    "data=[]\n",
    "with open('C:\\\\Users\\\\zaruc\\\\Desktop\\\\PreworkOkt\\\\weight_height.csv', 'r') as f:\n",
    "    lines = f.readlines()\n",
    "    for line in lines:\n",
    "        data.append(line.split()[0].split(\",\"))"
   ]
  },
  {
   "cell_type": "code",
   "execution_count": 22,
   "metadata": {},
   "outputs": [
    {
     "data": {
      "text/plain": [
       "'C:\\\\Users\\\\zaruc\\\\Desktop\\\\PreworkOkt'"
      ]
     },
     "execution_count": 22,
     "metadata": {},
     "output_type": "execute_result"
    }
   ],
   "source": [
    "import os\n",
    "os.getcwd() #this path is here for jupyter, so rather take this one above the one echoed in the terminal and above the one in \n",
    "            #my file system on windows"
   ]
  },
  {
   "cell_type": "code",
   "execution_count": 31,
   "metadata": {
    "scrolled": false
   },
   "outputs": [
    {
     "data": {
      "text/plain": [
       "['gender',\n",
       " 'actual_weight',\n",
       " 'actual_height',\n",
       " 'reported_weight',\n",
       " 'reported_height']"
      ]
     },
     "execution_count": 31,
     "metadata": {},
     "output_type": "execute_result"
    }
   ],
   "source": [
    "data[0]"
   ]
  },
  {
   "cell_type": "code",
   "execution_count": 60,
   "metadata": {
    "scrolled": false
   },
   "outputs": [
    {
     "data": {
      "text/plain": [
       "170.11049723756906"
      ]
     },
     "execution_count": 60,
     "metadata": {},
     "output_type": "execute_result"
    }
   ],
   "source": [
    "heights=[]\n",
    "\n",
    "for i in range(len(data)):\n",
    "    heights.append(data[i][2])\n",
    "    \n",
    "heights=heights[1:len(heights)-1]\n",
    "heights\n",
    "for i in range(len(heights)):\n",
    "    heights[i]=int(heights[i])\n",
    "heights_av=sum(heights)/len(heights)\n",
    "heights_av"
   ]
  },
  {
   "cell_type": "code",
   "execution_count": 61,
   "metadata": {
    "scrolled": true
   },
   "outputs": [
    {
     "data": {
      "text/plain": [
       "[['M', '77', '182', '77', '180'],\n",
       " ['F', '58', '161', '51', '159'],\n",
       " ['F', '53', '161', '54', '158'],\n",
       " ['M', '68', '177', '70', '175'],\n",
       " ['F', '59', '157', '59', '155'],\n",
       " ['M', '76', '170', '76', '165'],\n",
       " ['M', '76', '167', '77', '165'],\n",
       " ['M', '69', '186', '73', '180'],\n",
       " ['M', '71', '178', '71', '175'],\n",
       " ['M', '65', '171', '64', '170'],\n",
       " ['M', '70', '175', '75', '174'],\n",
       " ['F', '166', '57', '56', '163'],\n",
       " ['F', '51', '161', '52', '158'],\n",
       " ['F', '64', '168', '64', '165'],\n",
       " ['F', '52', '163', '57', '160'],\n",
       " ['F', '65', '166', '66', '165'],\n",
       " ['M', '92', '187', '101', '185'],\n",
       " ['F', '62', '168', '62', '165'],\n",
       " ['M', '76', '197', '75', '200'],\n",
       " ['F', '61', '175', '61', '171'],\n",
       " ['M', '119', '180', '124', '178'],\n",
       " ['F', '61', '170', '61', '170'],\n",
       " ['M', '65', '175', '66', '173'],\n",
       " ['M', '66', '173', '70', '170'],\n",
       " ['F', '54', '171', '59', '168'],\n",
       " ['F', '50', '166', '50', '165'],\n",
       " ['F', '63', '169', '61', '168'],\n",
       " ['F', '58', '166', '60', '160'],\n",
       " ['F', '39', '157', '41', '153'],\n",
       " ['M', '101', '183', '100', '180'],\n",
       " ['F', '71', '166', '71', '165'],\n",
       " ['M', '75', '178', '73', '175'],\n",
       " ['M', '79', '173', '76', '173'],\n",
       " ['F', '52', '164', '52', '161'],\n",
       " ['F', '68', '169', '63', '170'],\n",
       " ['M', '64', '176', '65', '175'],\n",
       " ['F', '56', '166', '54', '165'],\n",
       " ['M', '69', '174', '69', '171'],\n",
       " ['M', '88', '178', '86', '175'],\n",
       " ['M', '65', '187', '67', '188'],\n",
       " ['F', '54', '164', '53', '160'],\n",
       " ['M', '80', '178', '80', '178'],\n",
       " ['F', '63', '163', '59', '159'],\n",
       " ['M', '78', '183', '80', '180'],\n",
       " ['M', '85', '179', '82', '175'],\n",
       " ['F', '54', '160', '55', '158'],\n",
       " ['F', '54', '174', '56', '173'],\n",
       " ['F', '75', '162', '75', '158'],\n",
       " ['M', '82', '182', '85', '183'],\n",
       " ['F', '56', '165', '57', '163'],\n",
       " ['M', '74', '169', '73', '170'],\n",
       " ['M', '102', '185', '107', '185'],\n",
       " ['M', '65', '176', '64', '172'],\n",
       " ['M', '73', '183', '74', '180'],\n",
       " ['M', '75', '172', '70', '169'],\n",
       " ['M', '57', '173', '58', '170'],\n",
       " ['M', '68', '165', '69', '165'],\n",
       " ['M', '71', '177', '71', '170'],\n",
       " ['M', '71', '180', '76', '175'],\n",
       " ['F', '78', '173', '75', '169'],\n",
       " ['M', '97', '189', '98', '185'],\n",
       " ['F', '60', '162', '59', '160'],\n",
       " ['F', '64', '165', '63', '163'],\n",
       " ['F', '64', '164', '62', '161'],\n",
       " ['F', '52', '158', '51', '155'],\n",
       " ['M', '80', '178', '76', '175'],\n",
       " ['F', '62', '175', '61', '171'],\n",
       " ['M', '66', '173', '66', '175'],\n",
       " ['F', '55', '165', '54', '163'],\n",
       " ['F', '56', '163', '57', '159'],\n",
       " ['F', '50', '166', '50', '161'],\n",
       " ['F', '50', '160', '55', '150'],\n",
       " ['F', '63', '160', '64', '158'],\n",
       " ['M', '69', '182', '70', '180'],\n",
       " ['M', '69', '183', '70', '183'],\n",
       " ['F', '61', '165', '60', '163'],\n",
       " ['M', '55', '168', '56', '170'],\n",
       " ['F', '53', '169', '52', '175'],\n",
       " ['F', '60', '167', '55', '163'],\n",
       " ['F', '56', '170', '56', '170'],\n",
       " ['M', '59', '182', '61', '183'],\n",
       " ['M', '62', '178', '66', '175'],\n",
       " ['F', '53', '165', '53', '165'],\n",
       " ['F', '57', '163', '59', '160'],\n",
       " ['F', '57', '162', '56', '160'],\n",
       " ['M', '70', '173', '68', '170'],\n",
       " ['F', '56', '161', '56', '161'],\n",
       " ['M', '84', '184', '86', '183'],\n",
       " ['M', '69', '180', '71', '180'],\n",
       " ['M', '88', '189', '87', '185'],\n",
       " ['F', '56', '165', '57', '160'],\n",
       " ['M', '103', '185', '101', '182'],\n",
       " ['F', '50', '169', '50', '165'],\n",
       " ['F', '52', '159', '52', '153'],\n",
       " ['F', '55', '164', '55', '163'],\n",
       " ['M', '63', '178', '63', '175'],\n",
       " ['F', '47', '163', '47', '160'],\n",
       " ['F', '45', '163', '45', '160'],\n",
       " ['F', '62', '175', '63', '173'],\n",
       " ['F', '53', '164', '51', '160'],\n",
       " ['F', '52', '152', '51', '150'],\n",
       " ['F', '57', '167', '55', '164'],\n",
       " ['F', '64', '166', '64', '165'],\n",
       " ['F', '59', '166', '55', '163'],\n",
       " ['M', '84', '183', '90', '183'],\n",
       " ['M', '79', '179', '79', '171'],\n",
       " ['F', '55', '174', '57', '171'],\n",
       " ['M', '67', '179', '67', '179'],\n",
       " ['F', '76', '167', '77', '165'],\n",
       " ['F', '62', '168', '62', '163'],\n",
       " ['M', '83', '184', '83', '181'],\n",
       " ['M', '96', '184', '94', '183'],\n",
       " ['M', '75', '169', '76', '165'],\n",
       " ['M', '65', '178', '66', '178'],\n",
       " ['M', '78', '178', '77', '175'],\n",
       " ['M', '69', '167', '73', '165'],\n",
       " ['F', '68', '178', '68', '175'],\n",
       " ['F', '55', '165', '55', '163'],\n",
       " ['F', '52', '169', '56', 'NA'],\n",
       " ['F', '45', '157', '45', '153'],\n",
       " ['F', '68', '171', '68', '169'],\n",
       " ['F', '44', '157', '44', '155'],\n",
       " ['F', '62', '166', '61', '163'],\n",
       " ['M', '87', '185', '89', '185'],\n",
       " ['F', '56', '160', '53', '158'],\n",
       " ['F', '50', '148', '47', '148'],\n",
       " ['M', '83', '177', '84', '175'],\n",
       " ['F', '53', '162', '53', '160'],\n",
       " ['F', '64', '172', '62', '168'],\n",
       " ['M', '90', '188', '91', '185'],\n",
       " ['M', '85', '191', '83', '188'],\n",
       " ['M', '66', '175', '68', '175'],\n",
       " ['F', '52', '163', '53', '160'],\n",
       " ['F', '53', '165', '55', '163'],\n",
       " ['F', '54', '176', '55', '176'],\n",
       " ['F', '64', '171', '66', '171'],\n",
       " ['F', '55', '160', '55', '155'],\n",
       " ['F', '55', '165', '55', '165'],\n",
       " ['F', '59', '157', '55', '158'],\n",
       " ['F', '70', '173', '67', '170'],\n",
       " ['M', '88', '184', '86', '183'],\n",
       " ['F', '57', '168', '58', '165'],\n",
       " ['F', '47', '162', '47', '160'],\n",
       " ['F', '47', '150', '45', '152'],\n",
       " ['F', '48', '163', '44', '160'],\n",
       " ['M', '54', '169', '58', '165'],\n",
       " ['M', '69', '172', '68', '174'],\n",
       " ['F', '57', '167', '56', '165'],\n",
       " ['F', '51', '163', '50', '160'],\n",
       " ['F', '54', '161', '54', '160'],\n",
       " ['F', '53', '162', '52', '158'],\n",
       " ['F', '59', '172', '58', '171'],\n",
       " ['M', '56', '163', '58', '161'],\n",
       " ['F', '59', '159', '59', '155'],\n",
       " ['F', '63', '170', '62', '168'],\n",
       " ['F', '66', '166', '66', '165'],\n",
       " ['M', '96', '191', '95', '188'],\n",
       " ['F', '53', '158', '50', '155'],\n",
       " ['M', '76', '169', '75', '165'],\n",
       " ['M', '61', '170', '61', '170'],\n",
       " ['M', '62', '168', '64', '168'],\n",
       " ['M', '71', '178', '68', '178'],\n",
       " ['M', '66', '170', '67', '165'],\n",
       " ['M', '81', '178', '82', '175'],\n",
       " ['M', '68', '174', '68', '173'],\n",
       " ['M', '80', '176', '78', '175'],\n",
       " ['F', '63', '165', '59', '160'],\n",
       " ['M', '70', '173', '70', '173'],\n",
       " ['F', '56', '162', '56', '160'],\n",
       " ['F', '60', '172', '55', '168'],\n",
       " ['F', '58', '169', '54', '166'],\n",
       " ['M', '76', '183', '75', '180'],\n",
       " ['F', '50', '158', '49', '155'],\n",
       " ['M', '88', '185', '93', '188'],\n",
       " ['M', '89', '173', '86', '173'],\n",
       " ['F', '59', '164', '59', '165'],\n",
       " ['F', '51', '156', '51', '158'],\n",
       " ['F', '62', '164', '61', '161'],\n",
       " ['M', '74', '175', '71', '175'],\n",
       " ['M', '83', '180', '80', '180'],\n",
       " ['M', '90', '181', '91', '178'],\n",
       " ['M', '79', '177', '81', '178']]"
      ]
     },
     "execution_count": 61,
     "metadata": {},
     "output_type": "execute_result"
    }
   ],
   "source": [
    "data[1:]"
   ]
  },
  {
   "cell_type": "code",
   "execution_count": 59,
   "metadata": {},
   "outputs": [
    {
     "name": "stdout",
     "output_type": "stream",
     "text": [
      "170.14835164835165\n"
     ]
    }
   ],
   "source": [
    "heights = []\n",
    "\n",
    "for person in data[1:]:\n",
    "    height = int(person[2])\n",
    "    heights.append(height)\n",
    "avg_height = sum(heights)/len(heights)\n",
    "print(avg_height)"
   ]
  },
  {
   "cell_type": "code",
   "execution_count": 83,
   "metadata": {
    "scrolled": true
   },
   "outputs": [
    {
     "data": {
      "text/plain": [
       "163.7"
      ]
     },
     "execution_count": 83,
     "metadata": {},
     "output_type": "execute_result"
    }
   ],
   "source": [
    "height_w=[]\n",
    "height_m=[]\n",
    "for person in data[1:]:\n",
    "    if (person[0] == \"M\"):\n",
    "        height_m.append(int(person[2]))   \n",
    "    else:\n",
    "        height_w.append(int(person[2]))\n",
    "     \n",
    "ave_w=sum(height_w)/len(height_w)\n",
    "ave_m=sum(height_m)/len(height_m)   \n",
    "ave_w\n",
    "\n",
    "   "
   ]
  },
  {
   "cell_type": "code",
   "execution_count": null,
   "metadata": {},
   "outputs": [],
   "source": []
  }
 ],
 "metadata": {
  "kernelspec": {
   "display_name": "Python 3",
   "language": "python",
   "name": "python3"
  },
  "language_info": {
   "codemirror_mode": {
    "name": "ipython",
    "version": 3
   },
   "file_extension": ".py",
   "mimetype": "text/x-python",
   "name": "python",
   "nbconvert_exporter": "python",
   "pygments_lexer": "ipython3",
   "version": "3.7.0"
  }
 },
 "nbformat": 4,
 "nbformat_minor": 2
}
